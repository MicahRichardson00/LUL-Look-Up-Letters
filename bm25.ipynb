{
 "cells": [
  {
   "cell_type": "markdown",
   "metadata": {},
   "source": [
    "# Install BM25"
   ]
  },
  {
   "cell_type": "markdown",
   "metadata": {},
   "source": [
    "# Load necessary packages"
   ]
  },
  {
   "cell_type": "code",
   "execution_count": 4,
   "metadata": {},
   "outputs": [],
   "source": [
    "import pandas as pd\n",
    "from rank_bm25 import BM25Okapi\n",
    "from nltk.corpus import stopwords\n",
    "from nltk.tokenize import word_tokenize\n",
    "from nltk.stem import WordNetLemmatizer\n",
    "from nltk.tokenize import sent_tokenize\n",
    "import nltk\n"
   ]
  },
  {
   "cell_type": "code",
   "execution_count": 5,
   "metadata": {},
   "outputs": [],
   "source": [
    "! pip freeze > requirements.txt"
   ]
  },
  {
   "cell_type": "markdown",
   "metadata": {},
   "source": [
    "# Load in Dataframe, note each observation in the text column is an individual CEO letter"
   ]
  },
  {
   "cell_type": "code",
   "execution_count": 6,
   "metadata": {},
   "outputs": [],
   "source": [
    "df = pd.read_json(\"ceo-letters.jsonl\", lines=True)"
   ]
  },
  {
   "cell_type": "markdown",
   "metadata": {},
   "source": [
    "# Downloading nltk packages for data preperation"
   ]
  },
  {
   "cell_type": "code",
   "execution_count": 7,
   "metadata": {},
   "outputs": [
    {
     "name": "stderr",
     "output_type": "stream",
     "text": [
      "[nltk_data] Downloading package punkt to\n",
      "[nltk_data]     /Users/wesleybarnes/nltk_data...\n",
      "[nltk_data]   Package punkt is already up-to-date!\n",
      "[nltk_data] Downloading package stopwords to\n",
      "[nltk_data]     /Users/wesleybarnes/nltk_data...\n",
      "[nltk_data]   Package stopwords is already up-to-date!\n",
      "[nltk_data] Downloading package wordnet to\n",
      "[nltk_data]     /Users/wesleybarnes/nltk_data...\n",
      "[nltk_data]   Package wordnet is already up-to-date!\n"
     ]
    },
    {
     "data": {
      "text/plain": [
       "True"
      ]
     },
     "execution_count": 7,
     "metadata": {},
     "output_type": "execute_result"
    }
   ],
   "source": [
    "nltk.download('punkt')\n",
    "nltk.download('stopwords')\n",
    "nltk.download('wordnet')"
   ]
  },
  {
   "attachments": {},
   "cell_type": "markdown",
   "metadata": {},
   "source": [
    "## Test Cases"
   ]
  },
  {
   "cell_type": "code",
   "execution_count": 8,
   "metadata": {},
   "outputs": [],
   "source": [
    "queries = [\"What is UnitedHealth Group expected revenue?\", \"Wells Fargo CEO\", \"pandemic\", \"Tim Cook\", \"strategic planning initiative\"]"
   ]
  },
  {
   "attachments": {},
   "cell_type": "markdown",
   "metadata": {},
   "source": [
    "## Model 1"
   ]
  },
  {
   "cell_type": "code",
   "execution_count": 9,
   "metadata": {},
   "outputs": [],
   "source": [
    "# Data Prep\n",
    "stop_words = set(stopwords.words('english'))\n",
    "\n",
    "texts = df['text'].tolist()\n",
    "\n",
    "corpus = [[word for word in word_tokenize(text.lower()) if word not in stop_words] for text in texts]\n",
    "\n",
    "# BM25 Function\n",
    "bm25 = BM25Okapi(corpus)\n",
    "\n",
    "def bm25_query1(query, top_n=5):\n",
    "    tokenized_query = [word for word in word_tokenize(query.lower()) if word not in stop_words]\n",
    "    scores = bm25.get_scores(tokenized_query)\n",
    "    top_indexes = sorted(range(len(scores)), key=lambda i: scores[i], reverse=True)[:top_n]\n",
    "    return [(texts[i], scores[i]) for i in top_indexes]\n"
   ]
  },
  {
   "attachments": {},
   "cell_type": "markdown",
   "metadata": {},
   "source": [
    "### Model 1 Results"
   ]
  },
  {
   "cell_type": "code",
   "execution_count": 10,
   "metadata": {},
   "outputs": [
    {
     "name": "stdout",
     "output_type": "stream",
     "text": [
      "\n",
      " Query: What is UnitedHealth Group expected revenue? \n",
      "\n",
      "Score: 16.76, Text: As a shareholder of UnitedHealth Group, you play an important role in our company by considering and taking action on the matters set forth in the attached proxy statement. We appreciate the time and attention you invest in making thoughtful decisions.\n",
      "Score: 10.34, Text: We have deepened our pharmacy penetration into the Health Care Benefits segment through increased cross-selling of medical and pharmacy plans. This is expected to result in approximately $350 million in incremental revenue in 2021.\n",
      "Score: 9.41, Text: Why?\n",
      "Score: 9.35, Text: While the passage is not intended as a metaphor, it’s nevertheless a fantastic one, and very relevant to Amazon. I would argue that it’s relevant to all companies and all institutions and to each of our individual lives too. In what ways does the world pull at you in an attempt to make you normal? How much work does it take to maintain your distinctiveness? To keep alive the thing or things that make you special?\n",
      "Score: 9.01, Text: What would you like the power to do?\n",
      "\n",
      " Query: Wells Fargo CEO \n",
      "\n",
      "Score: 16.00, Text: We have a new management team running Wells Fargo. Since I joined Wells Fargo in 2019, 11 of 16 Operating Committee members are new to the company. Additionally, well over half of the senior most people at our company, meaning those who are one level below the Operating Committee, are new to their roles, and a significant proportion of them were hired from outside the company. This is a dramatic change in our leadership and to the group of people responsible for driving the cultural and process changes required for our transformation. We have recruited highly qualified people with experience in their areas of expertise and have promoted talented leaders within Wells Fargo. We’ve also significantly changed how we run the company. We have regular detailed business reviews, we prioritize resources across the entire company, and we ensure that we differentiate the performance of our people, rewarding strong performers and coaching those who need to improve. We expect people to prioritize what’s right for our customers, we value execution, and we embrace direct conversations that push us to improve. We celebrate our success but focus on what we can do to improve.\n",
      "Score: 15.64, Text: But we won’t win by running the company as we have for the past few decades. If we don’t change how we approach our customers, our company will go through a process of slow and steady decline. Others have approached the customer differently and are competing more effectively. For too long, Wells Fargo has:\n",
      "Score: 12.66, Text: Our game plan remains the same: build a strong risk and control infrastructure appropriate for a company of our size and complexity, run a disciplined business with talented people who remain excited by what Wells Fargo does for its employees, customers and communities, invest for the long term but continue to improve our financial performance each year, and realign our business with a technology-first and true customer-centric viewpoint. We are unwavering in our commitment to build a strong risk and control foundation. We are committed to invest what’s necessary and continue to do this work with the sense of urgency necessary for our most important priority. But we also remain cognizant that we still have a multiyear effort to satisfy our regulatory requirements – with setbacks likely to continue along the way – and will continue our work to put exposures related to our historical practices behind us. We will continue to embrace our responsibility to our employees, customers and communities. I commented earlier that we believe we will achieve a sustainable 10% ROTCE – subject to the same assumptions we’ve discussed in the past – on a run rate basis at some point this year, and that once we’ve achieved this goal, we will discuss our plan to continue to increase returns. But at a high level, we continue to believe we can further improve our returns through a combination of factors including: a modest increase in interest rates or a further steepening of the curve, ongoing progress on incremental efficiency initiatives, a small impact from returns on growth-related investments in our businesses, continued execution on our risk, regulatory and control priorities, and moderate balance-sheet growth once the asset cap is lifted. It’s important to note that we currently have the ability to grow loans, even under the asset cap, though our ability to add deposits is limited. The changes we’ve made to the company and continued strong economic growth prospects make us feel good about how we are positioned entering 2022, and even better about our longer-term prospects. Although there remain significant geopolitical and economic risks in the short- and midterm, we will continue to move forward with a goal to rebuild Wells Fargo to be amongst the best and most respected financial institutions in the country. I want to conclude by thanking everyone at Wells Fargo who continued to serve our customers, each other, and our communities through another challenging year. I appreciate their hard work and their resiliency while we made progress on making Wells Fargo better. I look forward to all that we will accomplish in the year ahead.\n",
      "Score: 12.23, Text: As I write this letter reflecting on 2021, it is difficult to describe what we have all been through and the extent to which COVID-19 has impacted the world. Over 400 million people have been infected with the virus, almost 6 million people have died, and so many others have been impacted in different ways. At the same time, we are learning to coexist with COVID-19. We now have multiple vaccines and a clearer understanding of how to protect ourselves from infection. Wells Fargo has used its strength to provide support through this crisis to our employees, customers, and communities, and we will continue to do so. We recognize that the pandemic has left many people in need, and that those needs haven’t gone away. As a company, we will continue to provide support to a diverse set of stakeholders over the long term. Alongside these eff orts, the work we have been doing to transform Wells Fargo has made us an even stronger company than we were a year ago. It has put us in a position to support a broad set of stakeholders, and it has positively impacted our results. While we still have much more to do, our foundation is stronger, our business is more focused, we are driving cultural change, the talent and management process changes we have made are making a positive impact, and our financial performance is stronger.\n",
      "Score: 12.07, Text: Our competition is stronger than ever. We compete against some outstanding banks of all sizes. We compete with younger non-banks that have specialized in one part of our business, many of which have moved on to compete more broadly. We also compete with non-banks that have significant market capitalizations, and big tech continues to expand its reach into the financial services profit pool. So why do I feel so excited to be at Wells Fargo? Simply put, our capabilities allow us to serve consumers and companies with better products at a better value than most anyone else.\n",
      "\n",
      " Query: pandemic \n",
      "\n",
      "Score: 4.64, Text: Innovating Through the Pandemic\n",
      "Score: 4.57, Text: Strong Performance in a Pandemic\n",
      "Score: 4.51, Text: Protecting lives in the global pandemic\n",
      "Score: 4.30, Text: 2021 was a year of transition as we continued to navigate the ongoing impacts of the global pandemic. We remained focused on supporting our members, patients, provider partners, and the communities we serve, with the needs of our members and patients our top priority, ensuring they received necessary care despite the ongoing challenges presented by the pandemic. Looking ahead, we will continue to proactively engage with our stakeholders to provide needed support as we all continue to learn more about the long-term impacts of the pandemic on the healthcare industry and delivery of care.\n",
      "Score: 4.27, Text: We believe the pandemic has given us a window into the future of work.\n",
      "\n",
      " Query: Tim Cook \n",
      "\n",
      "Score: 15.81, Text: It’s important to understand that only dividends from Apple are counted in the GAAP earnings Berkshire reports – and last year, Apple paid us $785 million of those. Yet our “share” of Apple’s earnings amounted to a staggering $5.6 billion. Much of what the company retained was used to repurchase Apple shares, an act we applaud. Tim Cook, Apple’s brilliant CEO, quite properly regards users of Apple products as his first love, but all of his other constituencies benefit from Tim’s managerial touch as well.\n",
      "Score: 12.74, Text: Tim\n",
      "Score: 12.56, Text: Tim NeCastro\n",
      "Score: 6.88, Text: In February 2016, Chief Financial Officer and Treasurer Kevin Cook announced his retirement and Executive Vice President Lloyd W. Howell, Jr., was named to succeed him as CFO, effective July 1. Lloyd brings to the CFO position more than 24 years of experience at the firm, including leadership in business operations and strategic planning. He has deep familiarity with the firm’s finances, and will lead our effort to accelerate growth at both the top and bottom line through effective capital deployment and investment strategies.\n",
      "Score: 5.19, Text: The Mr. George Community Service Award recognizes associates who exemplify the giving spirit of our founder. Our 2020 recipients are Scott Barnes, Shelly Carroll, Kedrin Fraum, Eddie Guzman, Josh Stubblefield and Scott Wilson. Eight of our associates were named to Progressive Grocer’s Top Women in Grocery list. The honorees were recognized for their overall excellence and continued achievements. The recipients this year were Marcy Benton, Maria Brous, Lillian Cook, Tiena Davis, Elesha Prince, Cindy Roberts, Marsha Singh and Abbie Van Wagner. Drug Store News named two of our associates as Top Women in Health, Wellness & Beauty. Kathy Leonard and Katie Scanlon were recognized with the Business Excellence Award for their demonstrated achievement, growth and success in the industry.\n",
      "\n",
      " Query: strategic planning initiative \n",
      "\n",
      "Score: 10.14, Text: Our continued progress in areas like ESG; diversity, equity, and inclusion; and strategic planning are made possible by the expert oversight and guidance of our Board, as well as the ability of our management team to drive execution and operational excellence.\n",
      "Score: 8.20, Text: Throughout 2021, we took actions to bolster our Environment, Social and Governance (ESG) commitments. We appointed our first Vice President of Global Sustainability; established a framework of Board governance of our ESG efforts; integrated the Task Force on Climate-Related Financial Disclosures (TCFD) Framework into our strategic planning process; and established groundwork to set Science- Based Targets aligned with the Paris Agreement.\n",
      "Score: 7.62, Text: In February 2016, Chief Financial Officer and Treasurer Kevin Cook announced his retirement and Executive Vice President Lloyd W. Howell, Jr., was named to succeed him as CFO, effective July 1. Lloyd brings to the CFO position more than 24 years of experience at the firm, including leadership in business operations and strategic planning. He has deep familiarity with the firm’s finances, and will lead our effort to accelerate growth at both the top and bottom line through effective capital deployment and investment strategies.\n",
      "Score: 7.54, Text: The year was not without its challenges, as supply chain disruptions intensified, the labor market tightened and pressure on our dealer channel increased with inventory levels remaining at historic lows. Despite the headwind, the Polaris team navigated the challenging environment with agility, tenacity and focus. Our strategic sourcing initiative, which we kicked off in 2018, put us on the path of transforming our supplier relationships and has proven vital during this pandemic.\n",
      "Score: 7.40, Text: We were pleased to welcome Melody Barnes to Booz Allen’s Board of Directors in October 2015. She is a domestic policy strategist and a Vice Provost and Senior Fellow at New York University and formerly served as Assistant to the President and the Director of the Domestic Policy Council for President Obama. Melody brings a wealth of public policy expertise that will help broaden our perspective on issues important to clients and to our own strategic planning. The Board remains actively engaged with management on our long-term strategy and competitive positioning in an evolving market, as well as risk management and stewardship of shareholder value.\n"
     ]
    }
   ],
   "source": [
    "for query in queries:\n",
    "    print(f\"\\n Query: {query} \\n\")\n",
    "    results = bm25_query1(query)\n",
    "    for text, score in results:\n",
    "        print(f\"Score: {score:.2f}, Text: {text}\")"
   ]
  },
  {
   "attachments": {},
   "cell_type": "markdown",
   "metadata": {},
   "source": [
    "## Model 2"
   ]
  },
  {
   "cell_type": "code",
   "execution_count": 11,
   "metadata": {},
   "outputs": [],
   "source": [
    "# Initialize lemmatizer and stop words\n",
    "lemmatizer = WordNetLemmatizer()\n",
    "stop_words = set(stopwords.words('english'))\n",
    "\n",
    "def tokenize_and_lemmatize(text):\n",
    "    return [lemmatizer.lemmatize(word) for word in word_tokenize(text.lower()) if word.isalpha() and word not in stop_words]\n",
    "\n",
    "texts = df['text'].tolist()\n",
    "corpus = [tokenize_and_lemmatize(text) for text in texts]\n",
    "\n",
    "bm25 = BM25Okapi(corpus)\n",
    "\n",
    "def truncate_to_full_sentences(text, max_char_length):\n",
    "    sentences = sent_tokenize(text)\n",
    "    truncated_text = \"\"\n",
    "    for sentence in sentences:\n",
    "        if len(truncated_text) + len(sentence) <= max_char_length:\n",
    "            truncated_text += sentence + \" \"\n",
    "        else:\n",
    "            break\n",
    "    return truncated_text.strip()\n",
    "\n",
    "def bm25_query2(query, top_n=5, max_char_length=200):\n",
    "    tokenized_query = tokenize_and_lemmatize(query)\n",
    "    scores = bm25.get_scores(tokenized_query)\n",
    "    top_indexes = sorted(range(len(scores)), key=lambda i: scores[i], reverse=True)[:top_n]\n",
    "    return [(truncate_to_full_sentences(texts[i], max_char_length), scores[i]) for i in top_indexes]"
   ]
  },
  {
   "attachments": {},
   "cell_type": "markdown",
   "metadata": {},
   "source": [
    "### Results -- 200 Character Limit"
   ]
  },
  {
   "cell_type": "code",
   "execution_count": 16,
   "metadata": {},
   "outputs": [
    {
     "name": "stdout",
     "output_type": "stream",
     "text": [
      "\n",
      " Query: What is UnitedHealth Group expected revenue? \n",
      "\n",
      "Score: 15.60, Text: As a shareholder of UnitedHealth Group, you play an important role in our company by considering and taking action on the matters set forth in the attached proxy statement.\n",
      "Score: 10.20, Text: We have deepened our pharmacy penetration into the Health Care Benefits segment through increased cross-selling of medical and pharmacy plans.\n",
      "Score: 9.26, Text: We expect 2022 to be another record year for Polaris, with strong revenues and net income growth.\n",
      "Score: 6.47, Text: Grew both revenue and adjusted revenue by 9% to $174 billion.\n",
      "Score: 6.36, Text: President and CEO, Alaska Air Group\n",
      "\n",
      " Query: Wells Fargo CEO \n",
      "\n",
      "Score: 12.08, Text: We have a new management team running Wells Fargo. Since I joined Wells Fargo in 2019, 11 of 16 Operating Committee members are new to the company.\n",
      "Score: 11.67, Text: But we won’t win by running the company as we have for the past few decades. If we don’t change how we approach our customers, our company will go through a process of slow and steady decline.\n",
      "Score: 9.08, Text: \n",
      "Score: 9.06, Text: As I write this letter reflecting on 2021, it is difficult to describe what we have all been through and the extent to which COVID-19 has impacted the world.\n",
      "Score: 8.65, Text: Our competition is stronger than ever. We compete against some outstanding banks of all sizes.\n",
      "\n",
      " Query: pandemic \n",
      "\n",
      "Score: 4.59, Text: Innovating Through the Pandemic\n",
      "Score: 4.51, Text: Strong Performance in a Pandemic\n",
      "Score: 4.43, Text: Protecting lives in the global pandemic\n",
      "Score: 4.24, Text: At the beginning of the COVID-19 pandemic, we put in place three core priorities: protect our people, mitigate the spread of the virus and safely run the business.\n",
      "Score: 4.23, Text: 2021 was a year of transition as we continued to navigate the ongoing impacts of the global pandemic.\n",
      "\n",
      " Query: Tim Cook \n",
      "\n",
      "Score: 16.29, Text: It’s important to understand that only dividends from Apple are counted in the GAAP earnings Berkshire reports – and last year, Apple paid us $785 million of those.\n",
      "Score: 12.68, Text: Tim\n",
      "Score: 12.45, Text: Tim NeCastro\n",
      "Score: 6.85, Text: In February 2016, Chief Financial Officer and Treasurer Kevin Cook announced his retirement and Executive Vice President Lloyd W. Howell, Jr., was named to succeed him as CFO, effective July 1.\n",
      "Score: 5.14, Text: The Mr. George Community Service Award recognizes associates who exemplify the giving spirit of our founder.\n",
      "\n",
      " Query: strategic planning initiative \n",
      "\n",
      "Score: 10.53, Text: More than $600 million in earnings improvements from strategic initiatives and actions\n",
      "Score: 10.01, Text: \n",
      "Score: 8.35, Text: Throughout 2021, we took actions to bolster our Environment, Social and Governance (ESG) commitments.\n",
      "Score: 7.81, Text: At Visa, we believe that economies that include everyone, everywhere, uplift everyone, everywhere.\n",
      "Score: 7.59, Text: In February 2016, Chief Financial Officer and Treasurer Kevin Cook announced his retirement and Executive Vice President Lloyd W. Howell, Jr., was named to succeed him as CFO, effective July 1.\n"
     ]
    }
   ],
   "source": [
    "for query in queries:   \n",
    "    print(f\"\\n Query: {query} \\n\")\n",
    "    results = bm25_query2(query)\n",
    "    for text, score in results:\n",
    "        print(f\"Score: {score:.2f}, Text: {text}\")"
   ]
  },
  {
   "attachments": {},
   "cell_type": "markdown",
   "metadata": {},
   "source": [
    "### Results -- 400 Character Limit"
   ]
  },
  {
   "cell_type": "code",
   "execution_count": 13,
   "metadata": {},
   "outputs": [
    {
     "name": "stdout",
     "output_type": "stream",
     "text": [
      "\n",
      " Query: What is UnitedHealth Group expected revenue? \n",
      "\n",
      "Score: 15.60, Text: As a shareholder of UnitedHealth Group, you play an important role in our company by considering and taking action on the matters set forth in the attached proxy statement. We appreciate the time and attention you invest in making thoughtful decisions.\n",
      "Score: 10.20, Text: We have deepened our pharmacy penetration into the Health Care Benefits segment through increased cross-selling of medical and pharmacy plans. This is expected to result in approximately $350 million in incremental revenue in 2021.\n",
      "Score: 9.26, Text: We expect 2022 to be another record year for Polaris, with strong revenues and net income growth. Challenges within the supply chain are expected to persist and the Polaris team stands ready to navigate through these challenges just as we did last year.\n",
      "Score: 6.47, Text: Grew both revenue and adjusted revenue by 9% to $174 billion.\n",
      "Score: 6.36, Text: President and CEO, Alaska Air Group\n",
      "\n",
      " Query: Wells Fargo CEO \n",
      "\n",
      "Score: 12.08, Text: We have a new management team running Wells Fargo. Since I joined Wells Fargo in 2019, 11 of 16 Operating Committee members are new to the company. Additionally, well over half of the senior most people at our company, meaning those who are one level below the Operating Committee, are new to their roles, and a significant proportion of them were hired from outside the company.\n",
      "Score: 11.67, Text: But we won’t win by running the company as we have for the past few decades. If we don’t change how we approach our customers, our company will go through a process of slow and steady decline. Others have approached the customer differently and are competing more effectively. For too long, Wells Fargo has:\n",
      "Score: 9.08, Text: \n",
      "Score: 9.06, Text: As I write this letter reflecting on 2021, it is difficult to describe what we have all been through and the extent to which COVID-19 has impacted the world. Over 400 million people have been infected with the virus, almost 6 million people have died, and so many others have been impacted in different ways. At the same time, we are learning to coexist with COVID-19.\n",
      "Score: 8.65, Text: Our competition is stronger than ever. We compete against some outstanding banks of all sizes. We compete with younger non-banks that have specialized in one part of our business, many of which have moved on to compete more broadly. We also compete with non-banks that have significant market capitalizations, and big tech continues to expand its reach into the financial services profit pool.\n",
      "\n",
      " Query: pandemic \n",
      "\n",
      "Score: 4.59, Text: Innovating Through the Pandemic\n",
      "Score: 4.51, Text: Strong Performance in a Pandemic\n",
      "Score: 4.43, Text: Protecting lives in the global pandemic\n",
      "Score: 4.24, Text: At the beginning of the COVID-19 pandemic, we put in place three core priorities: protect our people, mitigate the spread of the virus and safely run the business. In conjunction with these priorities, we developed a governance structure and protocols that have served us well in managing through the pandemic, including:\n",
      "Score: 4.23, Text: 2021 was a year of transition as we continued to navigate the ongoing impacts of the global pandemic. We remained focused on supporting our members, patients, provider partners, and the communities we serve, with the needs of our members and patients our top priority, ensuring they received necessary care despite the ongoing challenges presented by the pandemic.\n",
      "\n",
      " Query: Tim Cook \n",
      "\n",
      "Score: 16.29, Text: It’s important to understand that only dividends from Apple are counted in the GAAP earnings Berkshire reports – and last year, Apple paid us $785 million of those. Yet our “share” of Apple’s earnings amounted to a staggering $5.6 billion. Much of what the company retained was used to repurchase Apple shares, an act we applaud.\n",
      "Score: 12.68, Text: Tim\n",
      "Score: 12.45, Text: Tim NeCastro\n",
      "Score: 6.85, Text: In February 2016, Chief Financial Officer and Treasurer Kevin Cook announced his retirement and Executive Vice President Lloyd W. Howell, Jr., was named to succeed him as CFO, effective July 1. Lloyd brings to the CFO position more than 24 years of experience at the firm, including leadership in business operations and strategic planning.\n",
      "Score: 5.14, Text: The Mr. George Community Service Award recognizes associates who exemplify the giving spirit of our founder. Our 2020 recipients are Scott Barnes, Shelly Carroll, Kedrin Fraum, Eddie Guzman, Josh Stubblefield and Scott Wilson. Eight of our associates were named to Progressive Grocer’s Top Women in Grocery list. The honorees were recognized for their overall excellence and continued achievements.\n",
      "\n",
      " Query: strategic planning initiative \n",
      "\n",
      "Score: 10.53, Text: More than $600 million in earnings improvements from strategic initiatives and actions\n",
      "Score: 10.01, Text: Our continued progress in areas like ESG; diversity, equity, and inclusion; and strategic planning are made possible by the expert oversight and guidance of our Board, as well as the ability of our management team to drive execution and operational excellence.\n",
      "Score: 8.35, Text: Throughout 2021, we took actions to bolster our Environment, Social and Governance (ESG) commitments.\n",
      "Score: 7.81, Text: At Visa, we believe that economies that include everyone, everywhere, uplift everyone, everywhere. Throughout the fiscal year, we have invested in strategic initiatives that make good on that belief, putting our mission and purpose to work by making a true, global impact.\n",
      "Score: 7.59, Text: In February 2016, Chief Financial Officer and Treasurer Kevin Cook announced his retirement and Executive Vice President Lloyd W. Howell, Jr., was named to succeed him as CFO, effective July 1. Lloyd brings to the CFO position more than 24 years of experience at the firm, including leadership in business operations and strategic planning.\n"
     ]
    }
   ],
   "source": [
    "for query in queries:\n",
    "    print(f\"\\n Query: {query} \\n\")\n",
    "    results = bm25_query2(query, max_char_length=400)\n",
    "    for text, score in results:\n",
    "        print(f\"Score: {score:.2f}, Text: {text}\")"
   ]
  },
  {
   "cell_type": "markdown",
   "metadata": {},
   "source": [
    "Sources used to create this notebook: \n",
    "\n",
    "[Source 1](https://www.analyticsvidhya.com/blog/2021/05/build-your-own-nlp-based-search-engine-using-bm25/)\n",
    "\n",
    "[Source 2](https://pypi.org/project/rank-bm25/)"
   ]
  }
 ],
 "metadata": {
  "kernelspec": {
   "display_name": "weaviateenv",
   "language": "python",
   "name": "python3"
  },
  "language_info": {
   "codemirror_mode": {
    "name": "ipython",
    "version": 3
   },
   "file_extension": ".py",
   "mimetype": "text/x-python",
   "name": "python",
   "nbconvert_exporter": "python",
   "pygments_lexer": "ipython3",
   "version": "3.11.4"
  }
 },
 "nbformat": 4,
 "nbformat_minor": 2
}
